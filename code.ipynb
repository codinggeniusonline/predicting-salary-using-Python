{
 "cells": [
  {
   "cell_type": "code",
   "execution_count": 149,
   "metadata": {
    "collapsed": false
   },
   "outputs": [],
   "source": [
    "import numpy as np\n",
    "import pandas as pd\n",
    "import matplotlib.pyplot as plt\n",
    "%matplotlib inline\n",
    "import seaborn as sns\n",
    "from sklearn.model_selection import train_test_split\n",
    "from sklearn.neighbors import KNeighborsClassifier\n",
    "from sklearn import datasets, linear_model\n",
    "from sklearn.metrics import mean_squared_error, r2_score\n",
    "from sklearn import cross_validation\n",
    "from sklearn.model_selection import cross_val_score\n",
    "from sklearn.cross_validation import KFold\n",
    "from sklearn.cross_validation import cross_val_score\n",
    "from sklearn import ensemble\n",
    "from sklearn.ensemble import RandomForestRegressor\n",
    "from sklearn.datasets import make_regression\n",
    "from sklearn.linear_model import Ridge"
   ]
  },
  {
   "cell_type": "code",
   "execution_count": 150,
   "metadata": {
    "collapsed": true
   },
   "outputs": [],
   "source": [
    "features = pd.read_csv('C:/Users/Sarath Angathil/Desktop/indeed_data_science_exercise/train_features_2013-03-07.csv')\n",
    "salaries = pd.read_csv('C:/Users/Sarath Angathil/Desktop/indeed_data_science_exercise/train_salaries_2013-03-07.csv')\n",
    "test_features = pd.read_csv('C:/Users/Sarath Angathil/Desktop/indeed_data_science_exercise/test_features_2013-03-07.csv')"
   ]
  },
  {
   "cell_type": "code",
   "execution_count": 151,
   "metadata": {
    "collapsed": false
   },
   "outputs": [
    {
     "data": {
      "text/html": [
       "<div>\n",
       "<table border=\"1\" class=\"dataframe\">\n",
       "  <thead>\n",
       "    <tr style=\"text-align: right;\">\n",
       "      <th></th>\n",
       "      <th>jobId</th>\n",
       "      <th>companyId</th>\n",
       "      <th>jobType</th>\n",
       "      <th>degree</th>\n",
       "      <th>major</th>\n",
       "      <th>industry</th>\n",
       "      <th>yearsExperience</th>\n",
       "      <th>milesFromMetropolis</th>\n",
       "    </tr>\n",
       "  </thead>\n",
       "  <tbody>\n",
       "    <tr>\n",
       "      <th>0</th>\n",
       "      <td>JOB1362684407687</td>\n",
       "      <td>COMP37</td>\n",
       "      <td>CFO</td>\n",
       "      <td>MASTERS</td>\n",
       "      <td>MATH</td>\n",
       "      <td>HEALTH</td>\n",
       "      <td>10</td>\n",
       "      <td>83</td>\n",
       "    </tr>\n",
       "    <tr>\n",
       "      <th>1</th>\n",
       "      <td>JOB1362684407688</td>\n",
       "      <td>COMP19</td>\n",
       "      <td>CEO</td>\n",
       "      <td>HIGH_SCHOOL</td>\n",
       "      <td>NONE</td>\n",
       "      <td>WEB</td>\n",
       "      <td>3</td>\n",
       "      <td>73</td>\n",
       "    </tr>\n",
       "    <tr>\n",
       "      <th>2</th>\n",
       "      <td>JOB1362684407689</td>\n",
       "      <td>COMP52</td>\n",
       "      <td>VICE_PRESIDENT</td>\n",
       "      <td>DOCTORAL</td>\n",
       "      <td>PHYSICS</td>\n",
       "      <td>HEALTH</td>\n",
       "      <td>10</td>\n",
       "      <td>38</td>\n",
       "    </tr>\n",
       "    <tr>\n",
       "      <th>3</th>\n",
       "      <td>JOB1362684407690</td>\n",
       "      <td>COMP38</td>\n",
       "      <td>MANAGER</td>\n",
       "      <td>DOCTORAL</td>\n",
       "      <td>CHEMISTRY</td>\n",
       "      <td>AUTO</td>\n",
       "      <td>8</td>\n",
       "      <td>17</td>\n",
       "    </tr>\n",
       "    <tr>\n",
       "      <th>4</th>\n",
       "      <td>JOB1362684407691</td>\n",
       "      <td>COMP7</td>\n",
       "      <td>VICE_PRESIDENT</td>\n",
       "      <td>BACHELORS</td>\n",
       "      <td>PHYSICS</td>\n",
       "      <td>FINANCE</td>\n",
       "      <td>8</td>\n",
       "      <td>16</td>\n",
       "    </tr>\n",
       "  </tbody>\n",
       "</table>\n",
       "</div>"
      ],
      "text/plain": [
       "              jobId companyId         jobType       degree      major  \\\n",
       "0  JOB1362684407687    COMP37             CFO      MASTERS       MATH   \n",
       "1  JOB1362684407688    COMP19             CEO  HIGH_SCHOOL       NONE   \n",
       "2  JOB1362684407689    COMP52  VICE_PRESIDENT     DOCTORAL    PHYSICS   \n",
       "3  JOB1362684407690    COMP38         MANAGER     DOCTORAL  CHEMISTRY   \n",
       "4  JOB1362684407691     COMP7  VICE_PRESIDENT    BACHELORS    PHYSICS   \n",
       "\n",
       "  industry  yearsExperience  milesFromMetropolis  \n",
       "0   HEALTH               10                   83  \n",
       "1      WEB                3                   73  \n",
       "2   HEALTH               10                   38  \n",
       "3     AUTO                8                   17  \n",
       "4  FINANCE                8                   16  "
      ]
     },
     "execution_count": 151,
     "metadata": {},
     "output_type": "execute_result"
    }
   ],
   "source": [
    "features.head()"
   ]
  },
  {
   "cell_type": "code",
   "execution_count": 152,
   "metadata": {
    "collapsed": false
   },
   "outputs": [
    {
     "name": "stdout",
     "output_type": "stream",
     "text": [
      "<class 'pandas.core.frame.DataFrame'>\n",
      "RangeIndex: 1000000 entries, 0 to 999999\n",
      "Data columns (total 8 columns):\n",
      "jobId                  1000000 non-null object\n",
      "companyId              1000000 non-null object\n",
      "jobType                1000000 non-null object\n",
      "degree                 1000000 non-null object\n",
      "major                  1000000 non-null object\n",
      "industry               1000000 non-null object\n",
      "yearsExperience        1000000 non-null int64\n",
      "milesFromMetropolis    1000000 non-null int64\n",
      "dtypes: int64(2), object(6)\n",
      "memory usage: 61.0+ MB\n"
     ]
    }
   ],
   "source": [
    "features.info()"
   ]
  },
  {
   "cell_type": "code",
   "execution_count": 153,
   "metadata": {
    "collapsed": false
   },
   "outputs": [
    {
     "data": {
      "text/html": [
       "<div>\n",
       "<table border=\"1\" class=\"dataframe\">\n",
       "  <thead>\n",
       "    <tr style=\"text-align: right;\">\n",
       "      <th></th>\n",
       "      <th>jobId</th>\n",
       "      <th>salary</th>\n",
       "    </tr>\n",
       "  </thead>\n",
       "  <tbody>\n",
       "    <tr>\n",
       "      <th>0</th>\n",
       "      <td>JOB1362684407687</td>\n",
       "      <td>130</td>\n",
       "    </tr>\n",
       "    <tr>\n",
       "      <th>1</th>\n",
       "      <td>JOB1362684407688</td>\n",
       "      <td>101</td>\n",
       "    </tr>\n",
       "    <tr>\n",
       "      <th>2</th>\n",
       "      <td>JOB1362684407689</td>\n",
       "      <td>137</td>\n",
       "    </tr>\n",
       "    <tr>\n",
       "      <th>3</th>\n",
       "      <td>JOB1362684407690</td>\n",
       "      <td>142</td>\n",
       "    </tr>\n",
       "    <tr>\n",
       "      <th>4</th>\n",
       "      <td>JOB1362684407691</td>\n",
       "      <td>163</td>\n",
       "    </tr>\n",
       "  </tbody>\n",
       "</table>\n",
       "</div>"
      ],
      "text/plain": [
       "              jobId  salary\n",
       "0  JOB1362684407687     130\n",
       "1  JOB1362684407688     101\n",
       "2  JOB1362684407689     137\n",
       "3  JOB1362684407690     142\n",
       "4  JOB1362684407691     163"
      ]
     },
     "execution_count": 153,
     "metadata": {},
     "output_type": "execute_result"
    }
   ],
   "source": [
    "salaries.head()"
   ]
  },
  {
   "cell_type": "code",
   "execution_count": 154,
   "metadata": {
    "collapsed": false
   },
   "outputs": [
    {
     "name": "stdout",
     "output_type": "stream",
     "text": [
      "<class 'pandas.core.frame.DataFrame'>\n",
      "RangeIndex: 1000000 entries, 0 to 999999\n",
      "Data columns (total 2 columns):\n",
      "jobId     1000000 non-null object\n",
      "salary    1000000 non-null int64\n",
      "dtypes: int64(1), object(1)\n",
      "memory usage: 15.3+ MB\n"
     ]
    }
   ],
   "source": [
    "salaries.info()"
   ]
  },
  {
   "cell_type": "code",
   "execution_count": 155,
   "metadata": {
    "collapsed": false
   },
   "outputs": [
    {
     "name": "stdout",
     "output_type": "stream",
     "text": [
      "job Id is unique.\n",
      "Train and test sets are distinct.\n",
      "We do not need to worry about missing values.\n"
     ]
    }
   ],
   "source": [
    "# checking Missing values and data validation\n",
    "print('job Id is unique.') if features.jobId.nunique() == features.shape[0] else print('oops')\n",
    "print('Train and test sets are distinct.') if len(np.intersect1d(features.jobId.values, test_features.jobId.values))== 0 else print('oops')\n",
    "print('We do not need to worry about missing values.') if features.count().min() == features.shape[0] and test_features.count().min() == test_features.shape[0] else print('oops')"
   ]
  },
  {
   "cell_type": "code",
   "execution_count": null,
   "metadata": {
    "collapsed": true
   },
   "outputs": [],
   "source": []
  },
  {
   "cell_type": "code",
   "execution_count": 156,
   "metadata": {
    "collapsed": false
   },
   "outputs": [],
   "source": [
    "#merging the dataset\n",
    "data_salary = pd.merge(features, salaries, how = \"left\", on= \"jobId\")\n",
    "data = data_salary.iloc[:,np.r_[0:1,2:9]]\n",
    "dataset = data\n"
   ]
  },
  {
   "cell_type": "code",
   "execution_count": 157,
   "metadata": {
    "collapsed": false
   },
   "outputs": [
    {
     "data": {
      "image/png": "[encoded data removed]",
      "text/plain": [
       "<matplotlib.figure.Figure at 0x29a06447e10>"
      ]
     },
     "metadata": {},
     "output_type": "display_data"
    }
   ],
   "source": [
    "#boxplot\n",
    "\n",
    "sns.set(style=\"whitegrid\")\n",
    "fig, axes = plt.subplots(1,2)\n",
    "sns.boxplot( y=dataset['yearsExperience'], ax=axes[0], width=0.8)\n",
    "sns.boxplot( y=dataset['milesFromMetropolis'], ax=axes[1],width=0.8)  \n",
    "plt.tight_layout()"
   ]
  },
  {
   "cell_type": "code",
   "execution_count": 158,
   "metadata": {
    "collapsed": false
   },
   "outputs": [
    {
     "data": {
      "text/html": [
       "<div>\n",
       "<table border=\"1\" class=\"dataframe\">\n",
       "  <thead>\n",
       "    <tr style=\"text-align: right;\">\n",
       "      <th></th>\n",
       "      <th>jobId</th>\n",
       "      <th>jobType</th>\n",
       "      <th>degree</th>\n",
       "      <th>major</th>\n",
       "      <th>industry</th>\n",
       "      <th>yearsExperience</th>\n",
       "      <th>milesFromMetropolis</th>\n",
       "      <th>salary</th>\n",
       "    </tr>\n",
       "  </thead>\n",
       "  <tbody>\n",
       "    <tr>\n",
       "      <th>0</th>\n",
       "      <td>JOB1362684407687</td>\n",
       "      <td>CFO</td>\n",
       "      <td>MASTERS</td>\n",
       "      <td>MATH</td>\n",
       "      <td>HEALTH</td>\n",
       "      <td>10</td>\n",
       "      <td>83</td>\n",
       "      <td>130</td>\n",
       "    </tr>\n",
       "    <tr>\n",
       "      <th>1</th>\n",
       "      <td>JOB1362684407688</td>\n",
       "      <td>CEO</td>\n",
       "      <td>HIGH_SCHOOL</td>\n",
       "      <td>NONE</td>\n",
       "      <td>WEB</td>\n",
       "      <td>3</td>\n",
       "      <td>73</td>\n",
       "      <td>101</td>\n",
       "    </tr>\n",
       "    <tr>\n",
       "      <th>2</th>\n",
       "      <td>JOB1362684407689</td>\n",
       "      <td>VICE_PRESIDENT</td>\n",
       "      <td>DOCTORAL</td>\n",
       "      <td>PHYSICS</td>\n",
       "      <td>HEALTH</td>\n",
       "      <td>10</td>\n",
       "      <td>38</td>\n",
       "      <td>137</td>\n",
       "    </tr>\n",
       "    <tr>\n",
       "      <th>3</th>\n",
       "      <td>JOB1362684407690</td>\n",
       "      <td>MANAGER</td>\n",
       "      <td>DOCTORAL</td>\n",
       "      <td>CHEMISTRY</td>\n",
       "      <td>AUTO</td>\n",
       "      <td>8</td>\n",
       "      <td>17</td>\n",
       "      <td>142</td>\n",
       "    </tr>\n",
       "    <tr>\n",
       "      <th>4</th>\n",
       "      <td>JOB1362684407691</td>\n",
       "      <td>VICE_PRESIDENT</td>\n",
       "      <td>BACHELORS</td>\n",
       "      <td>PHYSICS</td>\n",
       "      <td>FINANCE</td>\n",
       "      <td>8</td>\n",
       "      <td>16</td>\n",
       "      <td>163</td>\n",
       "    </tr>\n",
       "  </tbody>\n",
       "</table>\n",
       "</div>"
      ],
      "text/plain": [
       "              jobId         jobType       degree      major industry  \\\n",
       "0  JOB1362684407687             CFO      MASTERS       MATH   HEALTH   \n",
       "1  JOB1362684407688             CEO  HIGH_SCHOOL       NONE      WEB   \n",
       "2  JOB1362684407689  VICE_PRESIDENT     DOCTORAL    PHYSICS   HEALTH   \n",
       "3  JOB1362684407690         MANAGER     DOCTORAL  CHEMISTRY     AUTO   \n",
       "4  JOB1362684407691  VICE_PRESIDENT    BACHELORS    PHYSICS  FINANCE   \n",
       "\n",
       "   yearsExperience  milesFromMetropolis  salary  \n",
       "0               10                   83     130  \n",
       "1                3                   73     101  \n",
       "2               10                   38     137  \n",
       "3                8                   17     142  \n",
       "4                8                   16     163  "
      ]
     },
     "execution_count": 158,
     "metadata": {},
     "output_type": "execute_result"
    }
   ],
   "source": [
    "dataset.head()"
   ]
  },
  {
   "cell_type": "code",
   "execution_count": 159,
   "metadata": {
    "collapsed": false
   },
   "outputs": [
    {
     "name": "stdout",
     "output_type": "stream",
     "text": [
      "   yearsExperience  milesFromMetropolis  salary  jobType_CEO  jobType_CFO  \\\n",
      "0               10                   83     130          0.0          1.0   \n",
      "1                3                   73     101          1.0          0.0   \n",
      "2               10                   38     137          0.0          0.0   \n",
      "3                8                   17     142          0.0          0.0   \n",
      "4                8                   16     163          0.0          0.0   \n",
      "\n",
      "   jobType_CTO  jobType_JANITOR  jobType_JUNIOR  jobType_MANAGER  \\\n",
      "0          0.0              0.0             0.0              0.0   \n",
      "1          0.0              0.0             0.0              0.0   \n",
      "2          0.0              0.0             0.0              0.0   \n",
      "3          0.0              0.0             0.0              1.0   \n",
      "4          0.0              0.0             0.0              0.0   \n",
      "\n",
      "   jobType_SENIOR      ...       major_MATH  major_NONE  major_PHYSICS  \\\n",
      "0             0.0      ...              1.0         0.0            0.0   \n",
      "1             0.0      ...              0.0         1.0            0.0   \n",
      "2             0.0      ...              0.0         0.0            1.0   \n",
      "3             0.0      ...              0.0         0.0            0.0   \n",
      "4             0.0      ...              0.0         0.0            1.0   \n",
      "\n",
      "   industry_AUTO  industry_EDUCATION  industry_FINANCE  industry_HEALTH  \\\n",
      "0            0.0                 0.0               0.0              1.0   \n",
      "1            0.0                 0.0               0.0              0.0   \n",
      "2            0.0                 0.0               0.0              1.0   \n",
      "3            1.0                 0.0               0.0              0.0   \n",
      "4            0.0                 0.0               1.0              0.0   \n",
      "\n",
      "   industry_OIL  industry_SERVICE  industry_WEB  \n",
      "0           0.0               0.0           0.0  \n",
      "1           0.0               0.0           1.0  \n",
      "2           0.0               0.0           0.0  \n",
      "3           0.0               0.0           0.0  \n",
      "4           0.0               0.0           0.0  \n",
      "\n",
      "[5 rows x 32 columns]\n",
      "(800000, 32)\n"
     ]
    }
   ],
   "source": [
    "#data tranformation\n",
    "#converting categorical features to dummy variables\n",
    "train5 = data\n",
    "train_converted = pd.get_dummies(data.iloc[:,1:])\n",
    "print(train_converted.head())\n",
    "#splitting the data into train and test(validation) set\n",
    "#train set taken by random sampling 80% of the dataset\n",
    "train = train_converted.sample(frac=0.80,random_state= 100)\n",
    "#validate set is taken as the remaining 30% of the dataset\n",
    "validate = train_converted.drop(train.index)\n",
    "#predictor features in the train data set\n",
    "train_feature = train.iloc[:,np.r_[0:2,3:32]]\n",
    "#response variable in the train data set\n",
    "train_salary  = train.iloc[:,2]\n",
    "#predictor variable in the validation data set \n",
    "validate_feature  = validate.iloc[:,np.r_[0:2,3:32]]\n",
    "#response variable in the validation data set\n",
    "validate_salary   = validate.iloc[:,2]\n",
    "print(train.shape)"
   ]
  },
  {
   "cell_type": "code",
   "execution_count": null,
   "metadata": {
    "collapsed": true
   },
   "outputs": [],
   "source": []
  },
  {
   "cell_type": "code",
   "execution_count": 160,
   "metadata": {
    "collapsed": false
   },
   "outputs": [
    {
     "name": "stdout",
     "output_type": "stream",
     "text": [
      "salary_predictions [ 113.16260529  138.46614075  131.84366608 ...,  126.86165619  108.75695038\n",
      "   64.25235748]\n",
      "Index(['yearsExperience', 'milesFromMetropolis', 'jobType_CEO', 'jobType_CFO',\n",
      "       'jobType_CTO', 'jobType_JANITOR', 'jobType_JUNIOR', 'jobType_MANAGER',\n",
      "       'jobType_SENIOR', 'jobType_VICE_PRESIDENT', 'degree_BACHELORS',\n",
      "       'degree_DOCTORAL', 'degree_HIGH_SCHOOL', 'degree_MASTERS',\n",
      "       'degree_NONE', 'major_BIOLOGY', 'major_BUSINESS', 'major_CHEMISTRY',\n",
      "       'major_COMPSCI', 'major_ENGINEERING', 'major_LITERATURE', 'major_MATH',\n",
      "       'major_NONE', 'major_PHYSICS', 'industry_AUTO', 'industry_EDUCATION',\n",
      "       'industry_FINANCE', 'industry_HEALTH', 'industry_OIL',\n",
      "       'industry_SERVICE', 'industry_WEB'],\n",
      "      dtype='object')\n"
     ]
    }
   ],
   "source": [
    "#REGRESSION MODEL\n",
    "reg = linear_model.LinearRegression()\n",
    "# training the model using linear regression\n",
    "reg.fit(train_feature,train_salary)\n",
    "# predicting the response variable in the validation data set \n",
    "salary_predictions = reg.predict(validate_feature)\n",
    "print(\"salary_predictions\",salary_predictions)\n",
    "test_processed = pd.get_dummies(test_features.iloc[:,2:])\n",
    "test_processed  = test_processed.iloc[:,np.r_[:,:31]]\n",
    "print(train_feature.columns)\n",
    "test_pred = test_processed\n",
    "test_salary_predictions = reg.predict(test_pred)"
   ]
  },
  {
   "cell_type": "code",
   "execution_count": 161,
   "metadata": {
    "collapsed": false
   },
   "outputs": [
    {
     "name": "stdout",
     "output_type": "stream",
     "text": [
      "Root Mean Squared Error:  19.5982040944\n",
      "Variance Explained (R^2):  0.743865065016\n",
      "Coefficients: \n",
      " [  2.01128625e+00  -3.99787949e-01   5.01453587e+10   5.01453587e+10\n",
      "   5.01453587e+10   5.01453586e+10   5.01453587e+10   5.01453587e+10\n",
      "   5.01453587e+10   5.01453587e+10  -9.81910018e+09  -9.81910017e+09\n",
      "  -9.81910019e+09  -9.81910018e+09  -9.81910019e+09  -1.39770718e+09\n",
      "  -1.39770717e+09  -1.39770718e+09  -1.39770717e+09  -1.39770717e+09\n",
      "  -1.39770718e+09  -1.39770717e+09  -1.39770718e+09  -1.39770718e+09\n",
      "   4.70677237e+09   4.70677236e+09   4.70677239e+09   4.70677238e+09\n",
      "   4.70677239e+09   4.70677237e+09   4.70677238e+09]\n"
     ]
    }
   ],
   "source": [
    "#Evaluation\n",
    "print('Root Mean Squared Error: ', np.sqrt(mean_squared_error(validate_salary,salary_predictions)))\n",
    "print('Variance Explained (R^2): ', r2_score(validate_salary, salary_predictions))\n",
    "# The coefficients\n",
    "print('Coefficients: \\n', reg.coef_)"
   ]
  },
  {
   "cell_type": "code",
   "execution_count": 162,
   "metadata": {
    "collapsed": false
   },
   "outputs": [
    {
     "name": "stdout",
     "output_type": "stream",
     "text": [
      "[ 0.86240393  0.86279793  0.86080231  0.86219095  0.86289943]\n"
     ]
    }
   ],
   "source": [
    "#kfoldcrossvalidation\n",
    "crossvalidation = KFold(n=train_feature.shape[0], n_folds=10,shuffle=True, random_state=1)\n",
    "scores = cross_val_score(reg,train_feature,train_salary, cv=5)\n",
    "rmse_scores = np.sqrt(scores)\n",
    "print(rmse_scores)"
   ]
  },
  {
   "cell_type": "code",
   "execution_count": 163,
   "metadata": {
    "collapsed": false
   },
   "outputs": [
    {
     "name": "stdout",
     "output_type": "stream",
     "text": [
      "[ 0.86196774  0.86283952  0.86252759  0.86306715  0.86153855  0.86006601\n",
      "  0.86279683  0.86156695  0.86284304  0.86295582]\n"
     ]
    }
   ],
   "source": [
    "scores = cross_val_score(reg,train_feature,train_salary, cv=10)\n",
    "rmse_scores = np.sqrt(scores)\n",
    "print(rmse_scores)"
   ]
  },
  {
   "cell_type": "code",
   "execution_count": 164,
   "metadata": {
    "collapsed": false
   },
   "outputs": [
    {
     "name": "stdout",
     "output_type": "stream",
     "text": [
      "              jobId      salary\n",
      "0  JOB1362685407687  115.684685\n",
      "1  JOB1362685407688   92.164703\n",
      "2  JOB1362685407689  166.916748\n",
      "3  JOB1362685407690  105.453621\n",
      "4  JOB1362685407691  118.939308\n"
     ]
    }
   ],
   "source": [
    "# Test Salaries creation\n",
    "test_processed = pd.get_dummies(test_features.iloc[:,2:])\n",
    "test_processed  = test_processed.iloc[:,np.r_[:,:30]]\n",
    "test_features =pd.DataFrame(test_features)\n",
    "test_salary_predictions = pd.DataFrame(test_salary_predictions)\n",
    "data_merge = pd.merge(test_processed, test_salary_predictions, left_index=True, right_index=True)\n",
    "data_final = pd.merge(test_features,data_merge,left_index=True,right_index=True)\n",
    "data_test = data_final\n",
    "data_final = data_final.iloc[:,np.r_[0,38]]\n",
    "data_test_2 = data_final\n",
    "data_final.columns = ['jobId','salary']\n",
    "data_final.to_csv(\"test_salaries.csv\")\n",
    "print(data_final.head())"
   ]
  },
  {
   "cell_type": "code",
   "execution_count": 165,
   "metadata": {
    "collapsed": false
   },
   "outputs": [
    {
     "name": "stdout",
     "output_type": "stream",
     "text": [
      "salary_predictions [ 113.16248638  138.46612525  131.84364937 ...,  126.86185406  108.75692017\n",
      "   64.25236164]\n",
      "Root Mean Squared Error:  19.598204428\n",
      "Variance Explained (R^2):  0.743865056296\n"
     ]
    }
   ],
   "source": [
    "# Ridge Regression\n",
    "\n",
    "clf = Ridge(alpha=0.09)\n",
    "clf.fit(train_feature,train_salary)\n",
    "salary_predictions = clf.predict(validate_feature)\n",
    "print(\"salary_predictions\",salary_predictions)\n",
    "print('Root Mean Squared Error: ', np.sqrt(mean_squared_error(validate_salary,salary_predictions)))\n",
    "print('Variance Explained (R^2): ', r2_score(validate_salary, salary_predictions))"
   ]
  },
  {
   "cell_type": "code",
   "execution_count": 166,
   "metadata": {
    "collapsed": false
   },
   "outputs": [
    {
     "name": "stdout",
     "output_type": "stream",
     "text": [
      "[  2.0094031   -0.39968356  28.22253211  18.42680706  18.52105128\n",
      " -32.89356056 -19.89784872  -0.          -9.92495314   8.30938996  -0.\n",
      "   9.48058947  -4.18207301   4.42605373  -7.9046418   -0.8020208\n",
      "   3.58060725  -0.           0.           6.34816115  -4.29220359\n",
      "   0.94822098  -9.01056318  -0.          -5.56424676 -15.56369744\n",
      "  14.2074612   -0.          14.36241955 -10.54760863   5.18288529]\n",
      "salary_predictions [ 112.08653718  137.71848175  130.33911311 ...,  127.0162654   105.51293599\n",
      "   66.14434544]\n",
      "Root Mean Squared Error:  19.6596809707\n",
      "Variance Explained (R^2):  0.742255624401\n"
     ]
    }
   ],
   "source": [
    "# Lasso Regression\n",
    "\n",
    "clf = linear_model.Lasso(alpha=0.1)\n",
    "clf.fit(train_feature,train_salary)\n",
    "salary_predictions = clf.predict(validate_feature)\n",
    "print(clf.coef_)\n",
    "print(\"salary_predictions\",salary_predictions)\n",
    "print('Root Mean Squared Error: ', np.sqrt(mean_squared_error(validate_salary,salary_predictions)))\n",
    "print('Variance Explained (R^2): ', r2_score(validate_salary, salary_predictions))"
   ]
  },
  {
   "cell_type": "code",
   "execution_count": 167,
   "metadata": {
    "collapsed": false
   },
   "outputs": [
    {
     "name": "stdout",
     "output_type": "stream",
     "text": [
      "          jobType       degree      major industry  yearsExperience  \\\n",
      "0             CFO      MASTERS       MATH   HEALTH               10   \n",
      "1             CEO  HIGH_SCHOOL       NONE      WEB                3   \n",
      "2  VICE_PRESIDENT     DOCTORAL    PHYSICS   HEALTH               10   \n",
      "3         MANAGER     DOCTORAL  CHEMISTRY     AUTO                8   \n",
      "4  VICE_PRESIDENT    BACHELORS    PHYSICS  FINANCE                8   \n",
      "\n",
      "   milesFromMetropolis  salary  \n",
      "0                   83     130  \n",
      "1                   73     101  \n",
      "2                   38     137  \n",
      "3                   17     142  \n",
      "4                   16     163  \n",
      "old           jobType       degree      major industry  yearsExperience  \\\n",
      "0             CFO      MASTERS       MATH   HEALTH               10   \n",
      "1             CEO  HIGH_SCHOOL       NONE      WEB                3   \n",
      "2  VICE_PRESIDENT     DOCTORAL    PHYSICS   HEALTH               10   \n",
      "3         MANAGER     DOCTORAL  CHEMISTRY     AUTO                8   \n",
      "4  VICE_PRESIDENT    BACHELORS    PHYSICS  FINANCE                8   \n",
      "\n",
      "   milesFromMetropolis  salary  jobTypenumber  degreenumber  majornumber  \\\n",
      "0                   83     130              1             1            1   \n",
      "1                   73     101              2             2            2   \n",
      "2                   38     137              3             3            3   \n",
      "3                   17     142              4             3            4   \n",
      "4                   16     163              3             4            3   \n",
      "\n",
      "   industrynumber  \n",
      "0               1  \n",
      "1               2  \n",
      "2               1  \n",
      "3               3  \n",
      "4               4  \n",
      "new    yearsExperience  milesFromMetropolis  salary  jobTypenumber  degreenumber  \\\n",
      "0               10                   83     130              1             1   \n",
      "1                3                   73     101              2             2   \n",
      "2               10                   38     137              3             3   \n",
      "3                8                   17     142              4             3   \n",
      "4                8                   16     163              3             4   \n",
      "\n",
      "   majornumber  industrynumber  \n",
      "0            1               1  \n",
      "1            2               2  \n",
      "2            3               1  \n",
      "3            4               3  \n",
      "4            3               4  \n",
      "train_feature         yearsExperience  milesFromMetropolis  jobTypenumber  degreenumber  \\\n",
      "617759                5                    0              7             3   \n",
      "693227                2                   53              7             4   \n",
      "906065               15                   14              6             2   \n",
      "828507                6                   46              1             5   \n",
      "869730                8                   93              6             2   \n",
      "\n",
      "        majornumber  industrynumber  \n",
      "617759            9               7  \n",
      "693227            7               6  \n",
      "906065            2               2  \n",
      "828507            2               5  \n",
      "869730            2               4  \n",
      "train_salary 617759    124\n",
      "693227    133\n",
      "906065    119\n",
      "828507     93\n",
      "869730     76\n",
      "Name: salary, dtype: int64\n",
      " validate_feature     yearsExperience  milesFromMetropolis  jobTypenumber  degreenumber  \\\n",
      "1                 3                   73              2             2   \n",
      "2                10                   38              3             3   \n",
      "5                 2                   31              4             3   \n",
      "10               24                   30              6             2   \n",
      "17               23                   43              3             1   \n",
      "\n",
      "    majornumber  industrynumber  \n",
      "1             2               2  \n",
      "2             3               1  \n",
      "5             5               4  \n",
      "10            2               1  \n",
      "17            7               7  \n",
      "validate_salary 1     101\n",
      "2     137\n",
      "5     113\n",
      "10    102\n",
      "17    126\n",
      "Name: salary, dtype: int64\n",
      "feature importance [ 0.19763181  0.21233097  0.3168201   0.03454915  0.14001895  0.09864902]\n",
      "salary_predictions [ 138.4         169.9         138.         ...,  105.8         103.85\n",
      "   62.73333333]\n",
      "Root Mean Squared Error:  21.758241017\n",
      "Variance Explained (R^2):  0.684293276262\n"
     ]
    }
   ],
   "source": [
    "#Random Forest regressor\n",
    "\n",
    "data = data_salary.iloc[:,np.r_[2:9]]\n",
    "print(data.head())\n",
    "jobtype  = {'jobType':['CFO','CEO','VICE_PRESIDENT','MANAGER','JUNIOR','JANITOR','CTO','SENIOR'],'jobTypenumber':[1,2,3,4,5,6,7,8]}\n",
    "jobtype = pd.DataFrame(jobtype)\n",
    "data = pd.merge(data,jobtype,how=\"left\",on =\"jobType\")\n",
    "degree = {'degree':['MASTERS','HIGH_SCHOOL','DOCTORAL','BACHELORS','NONE'],'degreenumber':[1,2,3,4,5]}\n",
    "degree = pd.DataFrame(degree)\n",
    "data = pd.merge(data,degree,how=\"left\",on=\"degree\")\n",
    "major = {'major':['MATH','NONE','PHYSICS','CHEMISTRY','COMPSCI','BIOLOGY','LITERATURE','BUSINESS','ENGINEERING'],'majornumber':[1,2,3,4,5,6,7,8,9]}\n",
    "major = pd.DataFrame(major)\n",
    "data = pd.merge(data,major,how=\"left\",on=\"major\")\n",
    "industry = {'industry':['HEALTH','WEB','AUTO','FINANCE','EDUCATION','OIL','SERVICE'],'industrynumber':[1,2,3,4,5,6,7]}\n",
    "industry = pd.DataFrame(industry)\n",
    "data = pd.merge(data,industry,how=\"left\",on = \"industry\")\n",
    "print(\"old\",data.head())\n",
    "data = data.iloc[:,np.r_[4:11]]\n",
    "print(\"new\",data.head())\n",
    "train =  data.sample(frac=0.80,random_state= 100)\n",
    "validate = data.drop(train.index)\n",
    "#predictor features in the train data set\n",
    "train_feature = train.iloc[:,np.r_[0:2,3:7]]\n",
    "#response variable in the train data set\n",
    "train_salary  = train.iloc[:,2]  \n",
    "print(\"train_feature\",train_feature.head())\n",
    "print(\"train_salary\",train_salary.head())\n",
    "#predictor variable in the validation data set \n",
    "validate_feature  = validate.iloc[:,np.r_[0:2,3:7]]\n",
    "#response variable in the validation data set\n",
    "validate_salary   = validate.iloc[:,2]\n",
    "print(\" validate_feature\", validate_feature.head())\n",
    "print(\"validate_salary\",validate_salary.head())\n",
    "regr = RandomForestRegressor()\n",
    "regr.fit(train_feature,train_salary)\n",
    "x = regr.feature_importances_\n",
    "print(\"feature importance\",x)\n",
    "salary_predictions = regr.predict(validate_feature)\n",
    "print(\"salary_predictions\",salary_predictions)\n",
    "print('Root Mean Squared Error: ', np.sqrt(mean_squared_error(validate_salary,salary_predictions)))\n",
    "print('Variance Explained (R^2): ', r2_score(validate_salary, salary_predictions))"
   ]
  }
 ],
 "metadata": {
  "anaconda-cloud": {},
  "kernelspec": {
   "display_name": "Python [default]",
   "language": "python",
   "name": "python3"
  },
  "language_info": {
   "codemirror_mode": {
    "name": "ipython",
    "version": 3
   },
   "file_extension": ".py",
   "mimetype": "text/x-python",
   "name": "python",
   "nbconvert_exporter": "python",
   "pygments_lexer": "ipython3",
   "version": "3.5.2"
  }
 },
 "nbformat": 4,
 "nbformat_minor": 2
}
